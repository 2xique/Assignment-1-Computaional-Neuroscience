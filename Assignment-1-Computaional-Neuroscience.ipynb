{
 "cells": [
  {
   "cell_type": "code",
   "execution_count": 11,
   "id": "39290a36-fd4a-4d22-9dca-a39c3bdeec4d",
   "metadata": {},
   "outputs": [],
   "source": [
    "import torch"
   ]
  },
  {
   "cell_type": "code",
   "execution_count": 13,
   "id": "3f9371f5-69d2-4c28-9699-6352acb973b5",
   "metadata": {},
   "outputs": [],
   "source": [
    "# Define the Tanh activation function\n",
    "class Tanh:\n",
    "    def forward(self, x):\n",
    "        x_exp, neg_x_exp = torch.exp(x), torch.exp(-x)\n",
    "        return (x_exp - neg_x_exp) / (x_exp + neg_x_exp)"
   ]
  },
  {
   "cell_type": "code",
   "execution_count": 15,
   "id": "bf0cc9ec-78c1-4d17-8495-60eff92bf8ae",
   "metadata": {},
   "outputs": [],
   "source": [
    "# Define the neural network\n",
    "class SimpleNeuralNetwork:\n",
    "    def __init__(self):\n",
    "        # Initialize weights randomly in the range [-0.5, 0.5]\n",
    "        self.w1 = torch.tensor(0.2)\n",
    "        self.w2 = torch.tensor(-0.3)\n",
    "        self.w3 = torch.tensor(0.4)\n",
    "        self.w4 = torch.tensor(-0.1)\n",
    "        self.w5 = torch.tensor(0.3)\n",
    "        self.w6 = torch.tensor(-0.2)\n",
    "        self.w7 = torch.tensor(0.1)\n",
    "        self.w8 = torch.tensor(-0.4)\n",
    "        \n",
    "        # Initialize biases\n",
    "        self.b1 = torch.tensor(0.5)\n",
    "        self.b2 = torch.tensor(0.7)\n",
    "        \n",
    "        # Initialize activation function\n",
    "        self.tanh = Tanh()\n",
    "\n",
    "    def forward(self, inputs):\n",
    "        i1, i2 = inputs\n",
    "        \n",
    "        # Hidden layer calculations\n",
    "        net_h1 = self.w1 * i1 + self.w2 * i2 + self.b1\n",
    "        out_h1 = self.tanh.forward(net_h1)\n",
    "        \n",
    "        net_h2 = self.w3 * i1 + self.w4 * i2 + self.b1\n",
    "        out_h2 = self.tanh.forward(net_h2)\n",
    "        \n",
    "        # Output layer calculations\n",
    "        net_o1 = self.w5 * out_h1 + self.w6 * out_h2 + self.b2\n",
    "        out_o1 = self.tanh.forward(net_o1)\n",
    "        \n",
    "        net_o2 = self.w7 * out_h1 + self.w8 * out_h2 + self.b2\n",
    "        out_o2 = self.tanh.forward(net_o2)\n",
    "        \n",
    "        return out_o1, out_o2\n",
    "\n",
    "    def calculate_error(self, outputs, targets):\n",
    "        out_o1, out_o2 = outputs\n",
    "        target_o1, target_o2 = targets\n",
    "        \n",
    "        # Squared error for each output neuron\n",
    "        E_o1 = 0.5 * (target_o1 - out_o1) ** 2\n",
    "        E_o2 = 0.5 * (target_o2 - out_o2) ** 2\n",
    "        \n",
    "        # Total error\n",
    "        E_total = E_o1 + E_o2\n",
    "        return E_total"
   ]
  },
  {
   "cell_type": "code",
   "execution_count": 17,
   "id": "d2f372eb-170c-42c7-8d0d-59add3d9d288",
   "metadata": {},
   "outputs": [
    {
     "name": "stdout",
     "output_type": "stream",
     "text": [
      "Outputs: o1 = 0.6291, o2 = 0.5055\n",
      "Total Error: 0.3090\n"
     ]
    }
   ],
   "source": [
    "# Inputs and targets\n",
    "inputs = torch.tensor([0.05, 0.10])\n",
    "targets = torch.tensor([0.01, 0.99])\n",
    "\n",
    "# Initialize the neural network\n",
    "nn = SimpleNeuralNetwork()\n",
    "\n",
    "# Forward pass\n",
    "outputs = nn.forward(inputs)\n",
    "print(f\"Outputs: o1 = {outputs[0].item():.4f}, o2 = {outputs[1].item():.4f}\")\n",
    "\n",
    "# Calculate error\n",
    "error = nn.calculate_error(outputs, targets)\n",
    "print(f\"Total Error: {error.item():.4f}\")"
   ]
  },
  {
   "cell_type": "code",
   "execution_count": null,
   "id": "4c9e668b-becf-49d9-beb4-95007c8b4bc1",
   "metadata": {},
   "outputs": [],
   "source": []
  }
 ],
 "metadata": {
  "kernelspec": {
   "display_name": "Python 3 (ipykernel)",
   "language": "python",
   "name": "python3"
  },
  "language_info": {
   "codemirror_mode": {
    "name": "ipython",
    "version": 3
   },
   "file_extension": ".py",
   "mimetype": "text/x-python",
   "name": "python",
   "nbconvert_exporter": "python",
   "pygments_lexer": "ipython3",
   "version": "3.12.4"
  }
 },
 "nbformat": 4,
 "nbformat_minor": 5
}
